import pandas as pd
import matplotlib.pyplot as plt
import seaborn as sns

# Load the dataset
df = pd.read_csv("C:/Users/maale/Downloads/heart_disease_uci.csv")

# Display basic information about the dataset
print("Dataset Overview:")
print(df.info())

# Display first few rows
print("\nFirst few rows of the dataset:")
print(df.head())

# Check for missing values
print("\nMissing values per column:")
print(df.isnull().sum())

# Basic statistics of numerical features
print("\nSummary statistics:")
print(df.describe())

# Distribution of target variable
plt.figure(figsize=(6, 4))
sns.countplot(x=df['num'], palette='viridis')
plt.title("Distribution of Heart Disease (Target Variable)")
plt.xlabel("Presence of Heart Disease")
plt.ylabel("Count")
plt.show()

# Correlation matrix
plt.figure(figsize=(10, 8))
sns.heatmap(df.corr(), annot=True, cmap='coolwarm', fmt='.2f')
plt.title("Feature Correlation Matrix")
plt.show()

# Pairplot for selected features
selected_features = ['age', 'trestbps', 'chol', 'thalch', 'oldpeak', 'num']
sns.pairplot(df[selected_features], hue='num', palette='coolwarm')
plt.show()

print("EDA Completed Successfully")
